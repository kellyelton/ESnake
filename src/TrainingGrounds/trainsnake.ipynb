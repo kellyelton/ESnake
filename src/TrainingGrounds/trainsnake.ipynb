{
 "cells": [
  {
   "cell_type": "code",
   "execution_count": 115,
   "metadata": {},
   "outputs": [],
   "source": [
    "import torch\n",
    "import torch.nn as nn"
   ]
  },
  {
   "cell_type": "code",
   "execution_count": 117,
   "metadata": {},
   "outputs": [],
   "source": [
    "# Create a simple recurrent neural network (RNN) with PyTorch\n",
    "class SnaekRNN(nn.Module):\n",
    "    def __init__(self, input_size, output_size, hidden_size, num_layers):\n",
    "        super(SnaekRNN, self).__init__()\n",
    "\n",
    "        self.input_size = input_size  # Number of inputs to the RNN (3) \n",
    "        self.output_size = output_size # Number of outputs from the RNN (2) \n",
    "        self.hidden_size = hidden_size # Number of neurons in the hidden layer of the RNN. \n",
    "\n",
    "        self.rnn = nn.RNN(input_size=self.input_size, hidden_size=self.hidden_size, num_layers=num_layers, batch_first=True)\n",
    "\n",
    "        self.fc = nn.Linear(in_features=self.hidden_size, out_features=self.output_size)\n",
    "\n",
    "    def forward(self, x): \n",
    "        out, _ = self.rnn(x)   # Pass in x to get out and _ from rnn layer \n",
    "        out = self.fc(out[-1]) # Pass the last output from rnn to fc layer\n",
    "        return out           # Return result from fc layer"
   ]
  },
  {
   "cell_type": "code",
   "execution_count": 165,
   "metadata": {},
   "outputs": [],
   "source": [
    "class SnakeFF(nn.Module):\n",
    "    def __init__(self, input_size, output_size, hidden_size, num_layers):\n",
    "        super(SnakeFF, self).__init__()\n",
    "\n",
    "        self.num_layers = num_layers\n",
    "        self.input_size = input_size  # Number of inputs to the Feed Forward Network\n",
    "        self.output_size = output_size # Number of outputs from the Feed Forward Network\n",
    "        self.hidden_size = hidden_size # Number of neurons in the hidden layer of the Feed Forward Network.\n",
    "\n",
    "        for i in range(num_layers):\n",
    "            if i == 0:\n",
    "                setattr(self, f'fc{i}', nn.Linear(in_features=self.input_size, out_features=self.hidden_size))\n",
    "            else:\n",
    "                setattr(self, f'fc{i}', nn.Linear(in_features=self.hidden_size, out_features=self.hidden_size))\n",
    "        \n",
    "        setattr(self, f'fc{num_layers}', nn.Linear(in_features=self.hidden_size, out_features=self.output_size))\n",
    "\n",
    "    def forward(self, x):\n",
    "        layer_count = self.num_layers\n",
    "\n",
    "        for i in range(layer_count):\n",
    "            x = getattr(self, f'fc{i}')(x)\n",
    "            x = nn.ReLU()(x)\n",
    "\n",
    "        x = getattr(self, f'fc{layer_count}')(x)\n",
    "        x = nn.Sigmoid()(x)\n",
    "\n",
    "        return x"
   ]
  },
  {
   "attachments": {},
   "cell_type": "markdown",
   "metadata": {},
   "source": [
    "# Create training data"
   ]
  },
  {
   "cell_type": "code",
   "execution_count": 155,
   "metadata": {},
   "outputs": [],
   "source": [
    "# inputs = [front(-1, 0, 1), left(-1, 0, 1), right(-1, 0, 1)]\n",
    "# outputs = [left(0, 1) > 0.8, right(0, 1) > 0.8]\n",
    "\n",
    "## create lots of training data in memory\n",
    "\n",
    "# inputs (float, float, float)\n",
    "# setup inputs. Values are either -1, 0, or 1\n",
    "# inputs also need batch dimension\n",
    "x_train = torch.zeros(1000, 1, 3)\n",
    "for i in range(1000):\n",
    "    x_train[i][0][0] = torch.randint(-1, 2, (1,)) # front\n",
    "    x_train[i][0][1] = torch.randint(-1, 2, (1,)) # left\n",
    "    x_train[i][0][2] = torch.randint(-1, 2, (1,)) # right\n",
    "\n",
    "# For each input, figure out the correct output\n",
    "y_train = torch.zeros(1000, 1, 2)\n",
    "for i in range(1000):\n",
    "    front = x_train[i][0][0]\n",
    "    left = x_train[i][0][1]\n",
    "    right = x_train[i][0][2]\n",
    "    death = -1\n",
    "    empty = 0\n",
    "    food = 1\n",
    "\n",
    "    # if front is food, go forward\n",
    "    # if left and right is food, go left or right randomly 50% of the time\n",
    "    # if left or right is food, go there 50% of the time\n",
    "    # if front is death, turn left or right randomly, prefering the side with food\n",
    "    # if left or right is death, turn away from it 25% of the time\n",
    "    # outputs = [left(0, 1), right(0, 1)]\n",
    "    # if left output is < 0.8 and right output is > 0.8, the snake will go right\n",
    "    # if left output is > 0.8 and right output is < 0.8, the snake will go left\n",
    "    # if left output is > 0.8 and right output is > 0.8, the snake will go straight\n",
    "    # if left output is < 0.8 and right output is < 0.8, the snake will go straight\n",
    "    if front == food:\n",
    "        y_train[i, 0, 0] = 0\n",
    "        y_train[i, 0, 1] = 0\n",
    "    elif left == food and right == food:\n",
    "        # random choose direction\n",
    "        if torch.rand(1) > 0.5:\n",
    "            y_train[i, 0, 0] = 0\n",
    "            y_train[i, 0, 1] = 1\n",
    "        else:\n",
    "            y_train[i, 0, 0] = 1\n",
    "            y_train[i, 0, 1] = 0\n",
    "    elif left == food:\n",
    "        y_train[i, 0, 0] = 1\n",
    "        y_train[i, 0, 1] = 0\n",
    "    elif right == food:\n",
    "        y_train[i, 0, 0] = 0\n",
    "        y_train[i, 0, 1] = 1\n",
    "    elif front == death:\n",
    "        if left == death: # go right\n",
    "            y_train[i, 0, 0] = 0\n",
    "            y_train[i, 0, 1] = 1\n",
    "        elif right == death: # go left\n",
    "            y_train[i, 0, 0] = 1\n",
    "            y_train[i, 0, 1] = 0\n",
    "        else: # go left or right randomly\n",
    "            if torch.rand(1) > 0.5:\n",
    "                y_train[i, 0, 0] = 0\n",
    "                y_train[i, 0, 1] = 1\n",
    "            else:\n",
    "                y_train[i, 0, 0] = 1\n",
    "                y_train[i, 0, 1] = 0\n",
    "    else: # go straight\n",
    "        y_train[i, 0, 0] = 0\n",
    "        y_train[i, 0, 1] = 0\n",
    "\n",
    "   \n",
    "# get batches, each batch is just a single input and output. Don't include a paramter for batch_size, it will be set to 1\n",
    "def get_batches(x_train, y_train):\n",
    "    for i in range(len(x_train)):\n",
    "        yield x_train[i], y_train[i]"
   ]
  },
  {
   "attachments": {},
   "cell_type": "markdown",
   "metadata": {},
   "source": [
    "# Train"
   ]
  },
  {
   "cell_type": "code",
   "execution_count": null,
   "metadata": {},
   "outputs": [],
   "source": []
  },
  {
   "cell_type": "code",
   "execution_count": 162,
   "metadata": {},
   "outputs": [
    {
     "name": "stdout",
     "output_type": "stream",
     "text": [
      "Epoch:  10/ 50  Loss: 0.39368773  Accuracy: 0.47\n",
      "Epoch:  20/ 50  Loss: 0.39368775  Accuracy: 0.47\n",
      "Epoch:  30/ 50  Loss: 0.39368775  Accuracy: 0.47\n",
      "Epoch:  40/ 50  Loss: 0.39368775  Accuracy: 0.47\n",
      "Epoch:  50/ 50  Loss: 0.39368775  Accuracy: 0.47\n"
     ]
    }
   ],
   "source": [
    "# Inputs: 3 values, 1 for each direction and 1 for what's in front of it\n",
    "# Outputs: 2 values, each between 0 and 1 \n",
    "input_size = 3 \n",
    "output_size = 2 \n",
    "hidden_size = 6\n",
    "num_layers = 9\n",
    "epochs = 50\n",
    "\n",
    "# Create an instance of our SnaekRNN class and define criterion and optimizer  \n",
    "model = SnakeFF(input_size=input_size, output_size=output_size, hidden_size=hidden_size, num_layers=num_layers)\n",
    "\n",
    "# train\n",
    "optimizer = torch.optim.Adam(model.parameters(), lr=0.01)\n",
    "loss_function = nn.BCELoss()\n",
    "\n",
    "for i in range(epochs):\n",
    "    accuracies = []\n",
    "    losses = []\n",
    "    for x, y in get_batches(x_train, y_train):\n",
    "        # Calculate loss and gradients\n",
    "        y_pred = model(x)\n",
    "        loss = loss_function(y_pred, y)\n",
    "        loss.backward()\n",
    "\n",
    "        # calculate accuracy\n",
    "        accuracy = 0\n",
    "        if y[0][0] == 1 and y_pred[0][0] > 0.8 and y_pred[0][1] < 0.8:\n",
    "            accuracy += 1\n",
    "        elif y[0][1] == 1 and y_pred[0][0] < 0.8 and y_pred[0][1] > 0.8:\n",
    "            accuracy += 1\n",
    "        elif y[0][0] == 0 and y[0][1] == 0 and y_pred[0][0] < 0.8 and y_pred[0][1] < 0.8:\n",
    "            accuracy += 1\n",
    "\n",
    "        accuracy = accuracy / len(y_pred)\n",
    "    \n",
    "        accuracies.append(accuracy)\n",
    "        losses.append(loss)\n",
    "\n",
    "        # Update weights using optimizer\n",
    "        optimizer.step()\n",
    "        optimizer.zero_grad()\n",
    "\n",
    "    # Logging every 10 iterations\n",
    "    if (i+1) % 10 == 0:\n",
    "        accuracy = sum(accuracies) / len(accuracies)\n",
    "        loss = sum(losses) / len(losses)\n",
    "        print(f'Epoch: {i+1:3}/{epochs:3}  Loss: {loss.item():10.8f}  Accuracy: {accuracy:2.2f}')\n",
    "\n",
    "        # create image of the prediction, before and after\n",
    "        "
   ]
  },
  {
   "attachments": {},
   "cell_type": "markdown",
   "metadata": {},
   "source": [
    "# Predict"
   ]
  },
  {
   "cell_type": "code",
   "execution_count": null,
   "metadata": {},
   "outputs": [
    {
     "name": "stdout",
     "output_type": "stream",
     "text": [
      "tensor([ -31.7520, -139.8530])\n"
     ]
    }
   ],
   "source": [
    "# Initialize the Model and Load the Weights from file\n",
    "#model = SnaekRNN(input_size=input_size, output_size=output_size, hidden_size=hidden_size, num_layers=num_layers)\n",
    "#model.load_state_dict(torch.load('snake_nn_weights_2x2x2x2x4x4x4x4'))\n",
    "with torch.no_grad(): # Don't track history for testing \n",
    "\n",
    "    inputs = torch.tensor([[food, death, empty]]).float()\n",
    "\n",
    "    movement = model(inputs)\n",
    "\n",
    "    print(movement)"
   ]
  }
 ],
 "metadata": {
  "kernelspec": {
   "display_name": "Python 3",
   "language": "python",
   "name": "python3"
  },
  "language_info": {
   "codemirror_mode": {
    "name": "ipython",
    "version": 3
   },
   "file_extension": ".py",
   "mimetype": "text/x-python",
   "name": "python",
   "nbconvert_exporter": "python",
   "pygments_lexer": "ipython3",
   "version": "3.10.8"
  },
  "orig_nbformat": 4,
  "vscode": {
   "interpreter": {
    "hash": "ec2094c55e97439513515d56fd30764f1e47b352c8cad17faaf00ff5a0ac8650"
   }
  }
 },
 "nbformat": 4,
 "nbformat_minor": 2
}
